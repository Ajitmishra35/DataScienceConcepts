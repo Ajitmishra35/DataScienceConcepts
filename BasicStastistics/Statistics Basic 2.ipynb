{
 "cells": [
  {
   "cell_type": "markdown",
   "id": "43ec62c1",
   "metadata": {},
   "source": [
    "## Q1. What are the three measures of central tendency?"
   ]
  },
  {
   "cell_type": "markdown",
   "id": "e8583964",
   "metadata": {},
   "source": [
    "Mean \n",
    "Medain\n",
    "Mode"
   ]
  },
  {
   "cell_type": "markdown",
   "id": "93f81bd1",
   "metadata": {},
   "source": [
    "## Q2. What is the difference between the mean, median, and mode? How are they used to measure the central tendency of a dataset?"
   ]
  },
  {
   "cell_type": "code",
   "execution_count": 3,
   "id": "4cde6ee2",
   "metadata": {},
   "outputs": [
    {
     "data": {
      "text/html": [
       "<div>\n",
       "<style scoped>\n",
       "    .dataframe tbody tr th:only-of-type {\n",
       "        vertical-align: middle;\n",
       "    }\n",
       "\n",
       "    .dataframe tbody tr th {\n",
       "        vertical-align: top;\n",
       "    }\n",
       "\n",
       "    .dataframe thead th {\n",
       "        text-align: right;\n",
       "    }\n",
       "</style>\n",
       "<table border=\"1\" class=\"dataframe\">\n",
       "  <thead>\n",
       "    <tr style=\"text-align: right;\">\n",
       "      <th></th>\n",
       "      <th>total_bill</th>\n",
       "      <th>tip</th>\n",
       "      <th>sex</th>\n",
       "      <th>smoker</th>\n",
       "      <th>day</th>\n",
       "      <th>time</th>\n",
       "      <th>size</th>\n",
       "    </tr>\n",
       "  </thead>\n",
       "  <tbody>\n",
       "    <tr>\n",
       "      <th>0</th>\n",
       "      <td>16.99</td>\n",
       "      <td>1.01</td>\n",
       "      <td>Female</td>\n",
       "      <td>No</td>\n",
       "      <td>Sun</td>\n",
       "      <td>Dinner</td>\n",
       "      <td>2</td>\n",
       "    </tr>\n",
       "    <tr>\n",
       "      <th>1</th>\n",
       "      <td>10.34</td>\n",
       "      <td>1.66</td>\n",
       "      <td>Male</td>\n",
       "      <td>No</td>\n",
       "      <td>Sun</td>\n",
       "      <td>Dinner</td>\n",
       "      <td>3</td>\n",
       "    </tr>\n",
       "    <tr>\n",
       "      <th>2</th>\n",
       "      <td>21.01</td>\n",
       "      <td>3.50</td>\n",
       "      <td>Male</td>\n",
       "      <td>No</td>\n",
       "      <td>Sun</td>\n",
       "      <td>Dinner</td>\n",
       "      <td>3</td>\n",
       "    </tr>\n",
       "    <tr>\n",
       "      <th>3</th>\n",
       "      <td>23.68</td>\n",
       "      <td>3.31</td>\n",
       "      <td>Male</td>\n",
       "      <td>No</td>\n",
       "      <td>Sun</td>\n",
       "      <td>Dinner</td>\n",
       "      <td>2</td>\n",
       "    </tr>\n",
       "    <tr>\n",
       "      <th>4</th>\n",
       "      <td>24.59</td>\n",
       "      <td>3.61</td>\n",
       "      <td>Female</td>\n",
       "      <td>No</td>\n",
       "      <td>Sun</td>\n",
       "      <td>Dinner</td>\n",
       "      <td>4</td>\n",
       "    </tr>\n",
       "  </tbody>\n",
       "</table>\n",
       "</div>"
      ],
      "text/plain": [
       "   total_bill   tip     sex smoker  day    time  size\n",
       "0       16.99  1.01  Female     No  Sun  Dinner     2\n",
       "1       10.34  1.66    Male     No  Sun  Dinner     3\n",
       "2       21.01  3.50    Male     No  Sun  Dinner     3\n",
       "3       23.68  3.31    Male     No  Sun  Dinner     2\n",
       "4       24.59  3.61  Female     No  Sun  Dinner     4"
      ]
     },
     "execution_count": 3,
     "metadata": {},
     "output_type": "execute_result"
    }
   ],
   "source": [
    "import seaborn as sn\n",
    "dftip = sn.load_dataset(\"tips\")\n",
    "dftip.head()"
   ]
  },
  {
   "cell_type": "code",
   "execution_count": 5,
   "id": "9ebd1944",
   "metadata": {},
   "outputs": [
    {
     "data": {
      "text/plain": [
       "(244, 7)"
      ]
     },
     "execution_count": 5,
     "metadata": {},
     "output_type": "execute_result"
    }
   ],
   "source": [
    "dftip.shape"
   ]
  },
  {
   "cell_type": "code",
   "execution_count": 9,
   "id": "cf053648",
   "metadata": {},
   "outputs": [
    {
     "data": {
      "text/html": [
       "<div>\n",
       "<style scoped>\n",
       "    .dataframe tbody tr th:only-of-type {\n",
       "        vertical-align: middle;\n",
       "    }\n",
       "\n",
       "    .dataframe tbody tr th {\n",
       "        vertical-align: top;\n",
       "    }\n",
       "\n",
       "    .dataframe thead th {\n",
       "        text-align: right;\n",
       "    }\n",
       "</style>\n",
       "<table border=\"1\" class=\"dataframe\">\n",
       "  <thead>\n",
       "    <tr style=\"text-align: right;\">\n",
       "      <th></th>\n",
       "      <th>total_bill</th>\n",
       "      <th>tip</th>\n",
       "      <th>size</th>\n",
       "    </tr>\n",
       "  </thead>\n",
       "  <tbody>\n",
       "    <tr>\n",
       "      <th>count</th>\n",
       "      <td>244.000000</td>\n",
       "      <td>244.000000</td>\n",
       "      <td>244.000000</td>\n",
       "    </tr>\n",
       "    <tr>\n",
       "      <th>mean</th>\n",
       "      <td>19.785943</td>\n",
       "      <td>2.998279</td>\n",
       "      <td>2.569672</td>\n",
       "    </tr>\n",
       "    <tr>\n",
       "      <th>std</th>\n",
       "      <td>8.902412</td>\n",
       "      <td>1.383638</td>\n",
       "      <td>0.951100</td>\n",
       "    </tr>\n",
       "    <tr>\n",
       "      <th>min</th>\n",
       "      <td>3.070000</td>\n",
       "      <td>1.000000</td>\n",
       "      <td>1.000000</td>\n",
       "    </tr>\n",
       "    <tr>\n",
       "      <th>25%</th>\n",
       "      <td>13.347500</td>\n",
       "      <td>2.000000</td>\n",
       "      <td>2.000000</td>\n",
       "    </tr>\n",
       "    <tr>\n",
       "      <th>50%</th>\n",
       "      <td>17.795000</td>\n",
       "      <td>2.900000</td>\n",
       "      <td>2.000000</td>\n",
       "    </tr>\n",
       "    <tr>\n",
       "      <th>75%</th>\n",
       "      <td>24.127500</td>\n",
       "      <td>3.562500</td>\n",
       "      <td>3.000000</td>\n",
       "    </tr>\n",
       "    <tr>\n",
       "      <th>max</th>\n",
       "      <td>50.810000</td>\n",
       "      <td>10.000000</td>\n",
       "      <td>6.000000</td>\n",
       "    </tr>\n",
       "  </tbody>\n",
       "</table>\n",
       "</div>"
      ],
      "text/plain": [
       "       total_bill         tip        size\n",
       "count  244.000000  244.000000  244.000000\n",
       "mean    19.785943    2.998279    2.569672\n",
       "std      8.902412    1.383638    0.951100\n",
       "min      3.070000    1.000000    1.000000\n",
       "25%     13.347500    2.000000    2.000000\n",
       "50%     17.795000    2.900000    2.000000\n",
       "75%     24.127500    3.562500    3.000000\n",
       "max     50.810000   10.000000    6.000000"
      ]
     },
     "execution_count": 9,
     "metadata": {},
     "output_type": "execute_result"
    }
   ],
   "source": [
    "dftip.describe()"
   ]
  },
  {
   "cell_type": "markdown",
   "id": "368cbc2b",
   "metadata": {},
   "source": [
    "The mean, median, and mode are all measures of central tendency, which is a way to describe the center or typical value within a dataset. Here’s what each of them represents and how they differ:\n",
    "\n",
    "### Mean\n",
    "The mean, often referred to as the average, is calculated by adding all the numbers in a dataset and then dividing by the count of those numbers. It is the arithmetic average and is affected by outliers and skewed distributions.\n",
    "\n",
    "**Formula for Mean:**\n",
    "\\[ \\text{Mean} = \\frac{\\sum_{i=1}^{n} x_i}{n} \\]\n",
    "where \\( x_i \\) represents each number in the dataset and \\( n \\) is the number of observations.\n",
    "\n",
    "### Median\n",
    "The median is the middle value in a dataset when it is ordered from least to greatest. If there is an even number of observations, the median is the average of the two middle numbers. The median is not affected by outliers or skewed distributions, making it a better measure of central tendency for such datasets.\n",
    "\n",
    "**Finding the Median:**\n",
    "- Order the data from least to greatest.\n",
    "- If \\( n \\) is odd, the median is the value at position ( n+1/2 ).\n",
    "- If \\( n \\) is even, the median is the average of the values at positions (n/2 ) and ( n/2 + 1 ).\n",
    "\n",
    "### Mode\n",
    "The mode is the number that appears most frequently in a dataset. There can be more than one mode if multiple numbers appear with the same highest frequency, in which case the dataset is called multimodal. If no number repeats, the dataset is considered to have no mode. The mode is useful for categorical data where we wish to know which is the most common category.\n",
    "\n",
    "### Usage in Measuring Central Tendency\n",
    "- **Mean**: Provides a useful measure of central tendency when dealing with numeric data that is symmetrically distributed without outliers.\n",
    "- **Median**: More representative of the central tendency in skewed distributions or when the data contains outliers, as it is not affected by extreme values.\n",
    "- **Mode**: Used when the most common item, category, or value in a dataset is desired. It is the only measure of central tendency that can be used with nominal data.\n",
    "\n",
    "### Example\n",
    "Consider the following dataset of the number of pets owned by a group of people: {0, 0, 1, 1, 1, 2, 3, 4}\n",
    "\n",
    "- **Mean**: (0 + 0 + 1 + 1 + 1 + 2 + 3 + 4) / 8 = 1.5\n",
    "- **Median**: The middle values are 1 and 1 (since there are 8 numbers, an even count), so the median is (1 + 1) / 2 = 1.\n",
    "- **Mode**: The value 1 appears most frequently, so the mode is 1.\n",
    "\n",
    "### Conclusion\n",
    "In conclusion, the mean, median, and mode are all valid measures of central tendency but are chosen based on the nature of the dataset and the specific requirements of the analysis. The mean is sensitive to every data point in the dataset, the median is resistant to extreme values, and the mode is concerned with frequency of occurrence."
   ]
  },
  {
   "cell_type": "markdown",
   "id": "73111d52",
   "metadata": {},
   "source": [
    "## Q3. Measure the three measures of central tendency for the given height data:\n",
    "## [178,177,176,177,178.2,178,175,179,180,175,178.9,176.2,177,172.5,178,176.5]"
   ]
  },
  {
   "cell_type": "code",
   "execution_count": 15,
   "id": "100b0782",
   "metadata": {},
   "outputs": [
    {
     "data": {
      "text/plain": [
       "count     16.000000\n",
       "mean     177.018750\n",
       "std        1.847239\n",
       "min      172.500000\n",
       "25%      176.150000\n",
       "50%      177.000000\n",
       "75%      178.050000\n",
       "max      180.000000\n",
       "dtype: float64"
      ]
     },
     "execution_count": 15,
     "metadata": {},
     "output_type": "execute_result"
    }
   ],
   "source": [
    "import pandas as pd\n",
    "series = pd.Series([178,177,176,177,178.2,178,175,179,180,175,178.9,176.2,177,172.5,178,176.5])\n",
    "series.describe()\n",
    "## refer ony mean,50% and max\n"
   ]
  },
  {
   "cell_type": "code",
   "execution_count": 14,
   "id": "6370820d",
   "metadata": {},
   "outputs": [
    {
     "data": {
      "text/plain": [
       "177.01875"
      ]
     },
     "execution_count": 14,
     "metadata": {},
     "output_type": "execute_result"
    }
   ],
   "source": [
    "Mean =  series.sum()/len(series)"
   ]
  },
  {
   "cell_type": "code",
   "execution_count": 21,
   "id": "579c72b8",
   "metadata": {},
   "outputs": [
    {
     "data": {
      "text/plain": [
       "177.0"
      ]
     },
     "execution_count": 21,
     "metadata": {},
     "output_type": "execute_result"
    }
   ],
   "source": [
    "import numpy as np\n",
    "# Dataset provided by the user\n",
    "data = [178, 177, 176, 177, 178.2, 178, 175, 179, 180, 175, 178.9, 176.2, 177, 172.5, 178, 176.5]\n",
    "\n",
    "# Calculating the median\n",
    "median_value = np.median(data)\n",
    "median_value"
   ]
  },
  {
   "cell_type": "markdown",
   "id": "562d2cef",
   "metadata": {},
   "source": [
    "\n",
    "\n",
    "1. **Sort the Data**: Arrange the data points in ascending order.\n",
    "2. **Determine the Middle Point**: Since there are 16 data points, an even number, the median will be the average of the 8th and 9th values in the sorted list.\n",
    "\n",
    "For the given dataset: [178, 177, 176, 177, 178.2, 178, 175, 179, 180, 175, 178.9, 176.2, 177, 172.5, 178, 176.5]\n",
    "\n",
    "Sorted: [172.5, 175, 175, 176, 176.2, 176.5, 177, 177, 177, 178, 178, 178, 178.2, 178.9, 179, 180]\n",
    "\n",
    "The 8th and 9th values are both 177, so the median is 177.\n",
    "\n",
    "You can easily do this calculation using a calculator or a spreadsheet program like Microsoft Excel or Google Sheets by using the MEDIAN function. If you'd like to attempt this again when the system is functioning, or if you have access to Python or another programming environment, you can use the `median` function from the statistics library or NumPy library to calculate it directly."
   ]
  },
  {
   "cell_type": "markdown",
   "id": "4765470e",
   "metadata": {},
   "source": [
    "## Calculate the mode manually, you would follow these steps:\n",
    "\n",
    "1. **List the Data**: Write down the numbers from the dataset.\n",
    "2. **Count Frequency**: Count how many times each number appears.\n",
    "3. **Determine the Most Frequent**: The number that appears most frequently is the mode.\n",
    "\n",
    "For your dataset: [178, 177, 176, 177, 178.2, 178, 175, 179, 180, 175, 178.9, 176.2, 177, 172.5, 178, 176.5]\n",
    "\n",
    "The mode can be found by counting each number:\n",
    "- 175 appears twice,\n",
    "- 176 appears once,\n",
    "- 176.2 appears once,\n",
    "- 176.5 appears once,\n",
    "- 177 appears three times,\n",
    "- 178 appears three times,\n",
    "- 178.2 appears once,\n",
    "- 178.9 appears once,\n",
    "- 179 appears once,\n",
    "- 180 appears once,\n",
    "- 172.5 appears once.\n",
    "\n",
    "Here, both 177 and 178 appear three times, which are the highest frequencies in the dataset, making them both modes. This means the dataset is bimodal.\n",
    "\n",
    "In a computational environment, you could use the `mode` function from Python's statistics library, or the `stats.mode` function from the SciPy library, which would return the smallest of the modes in case of a multimodal dataset. If you have access to such tools, you can use them to verify this result."
   ]
  },
  {
   "cell_type": "code",
   "execution_count": 24,
   "id": "8a335dd8",
   "metadata": {},
   "outputs": [
    {
     "data": {
      "text/plain": [
       "ModeResult(mode=177.0, count=3)"
      ]
     },
     "execution_count": 24,
     "metadata": {},
     "output_type": "execute_result"
    }
   ],
   "source": [
    "from scipy import stats as st\n",
    "modeValue = st.mode(data)\n",
    "modeValue\n"
   ]
  },
  {
   "cell_type": "markdown",
   "id": "881edcc7",
   "metadata": {},
   "source": [
    "## Q4. Find the standard deviation for the given data:\n",
    "## [178,177,176,177,178.2,178,175,179,180,175,178.9,176.2,177,172.5,178,176.5]"
   ]
  },
  {
   "cell_type": "code",
   "execution_count": 26,
   "id": "cc9229c2",
   "metadata": {},
   "outputs": [
    {
     "data": {
      "text/plain": [
       "1.7885814036548633"
      ]
     },
     "execution_count": 26,
     "metadata": {},
     "output_type": "execute_result"
    }
   ],
   "source": [
    "data = [178,177,176,177,178.2,178,175,179,180,175,178.9,176.2,177,172.5,178,176.5]\n",
    "stdValue = np.std(data)\n",
    "stdValue"
   ]
  },
  {
   "cell_type": "markdown",
   "id": "2979065e",
   "metadata": {},
   "source": [
    "## Calcuate standard deviation\n",
    "\n",
    "1. **Calculate the Mean**: Add all the numbers together and divide by the count.\n",
    "2. **Subtract the Mean and Square the Result**: For each number, subtract the mean and square the result (the squared difference).\n",
    "3. **Find the Mean of Those Squared Differences**.\n",
    "4. **Take the Square Root of that**: This gives you the standard deviation.\n",
    "\n",
    "For your dataset, here are the steps:\n",
    "\n",
    "Mean = (178 + 177 + 176 + 177 + 178.2 + 178 + 175 + 179 + 180 + 175 + 178.9 + 176.2 + 177 + 172.5 + 178 + 176.5) / 16\n",
    "\n",
    "Then for each number: (number - mean)², sum all those squared differences.\n",
    "\n",
    "Divide by (count - 1) if you're calculating sample standard deviation or by count for population standard deviation.\n",
    "\n",
    "Take the square root of that quotient to get the standard deviation.\n",
    "\n",
    "Using a calculator or a spreadsheet tool (like Excel or Google Sheets), you can apply these calculations step by step. In Excel, for instance, you could use the `STDEV.S` function for a sample standard deviation, which appears to be what you need here.\n",
    "\n",
    "When the computational tools are back up, you can also use the `np.std()` function from the NumPy library with `ddof=1` to get the sample standard deviation, or simply use `pd.Series(data).std()` if you're using pandas."
   ]
  },
  {
   "cell_type": "markdown",
   "id": "2be191e1",
   "metadata": {},
   "source": [
    "## Q5. How are measures of dispersion such as range, variance, and standard deviation used to describe\n",
    "## the spread of a dataset? Provide an example."
   ]
  },
  {
   "cell_type": "markdown",
   "id": "989daf9a",
   "metadata": {},
   "source": [
    "Measures of dispersion are statistical tools that describe the spread or variability within a dataset. They give you an idea of how much the data points differ from each other and from the central tendency (mean, median, mode). Here are the main measures of dispersion:\n",
    "\n",
    "### Range\n",
    "- **Definition**: The range is the simplest measure of dispersion and is calculated as the difference between the maximum and minimum values in a dataset.\n",
    "- **Usage**: It gives a quick sense of the width of the distribution but is highly sensitive to outliers because it only considers the two extreme values.\n",
    "\n",
    "### Variance\n",
    "- **Definition**: Variance measures how far each number in the set is from the mean and thus from every other number in the set. It's calculated as the average of the squared differences from the Mean.\n",
    "- **Usage**: Variance provides a more comprehensive measure of spread because it takes into account all data points. However, since it's squared, it's not in the same units as the data and can be difficult to interpret on its own.\n",
    "\n",
    "### Standard Deviation\n",
    "- **Definition**: Standard deviation is the square root of the variance and provides a measure of spread that is in the same units as the data.\n",
    "- **Usage**: It is one of the most useful and widely used measures of dispersion because it reflects the dispersion around the mean and allows for direct comparison with the data points.\n",
    "\n",
    "### Example\n",
    "\n",
    "Imagine a dataset representing the test scores of a class: [70, 80, 80, 82, 88, 90]\n",
    "\n",
    "- **Range**: \\( 90 - 70 = 20 \\) points\n",
    "- **Variance**: Calculate the mean (82), then for each score, subtract the mean and square the result, and finally average those squared differences.\n",
    "- **Standard Deviation**: Take the square root of the variance.\n",
    "\n",
    "Let's calculate these using Python:\n",
    "\n",
    "```python\n",
    "import numpy as np\n",
    "\n",
    "scores = np.array([70, 80, 80, 82, 88, 90])\n",
    "mean_score = np.mean(scores)\n",
    "range_score = np.ptp(scores)  # Peak-to-peak is another term for range\n",
    "variance_score = np.var(scores, ddof=1)  # Sample variance\n",
    "std_deviation_score = np.sqrt(variance_score)\n",
    "\n",
    "print(\"Mean:\", mean_score)\n",
    "print(\"Range:\", range_score)\n",
    "print(\"Variance:\", variance_score)\n",
    "print(\"Standard Deviation:\", std_deviation_score)\n",
    "```\n",
    "\n",
    "Assuming the computational tool were working, the code would output the mean, range, variance, and standard deviation of the test scores. This would provide an understanding of not only the average performance (mean) but also how spread out the scores are from the average (standard deviation) and from each other (range)."
   ]
  },
  {
   "cell_type": "code",
   "execution_count": 27,
   "id": "e1386fb8",
   "metadata": {},
   "outputs": [
    {
     "name": "stdout",
     "output_type": "stream",
     "text": [
      "Mean: 81.66666666666667\n",
      "Range: 20\n",
      "Variance: 50.26666666666667\n",
      "Standard Deviation: 7.0898989179442236\n"
     ]
    }
   ],
   "source": [
    "import numpy as np\n",
    "\n",
    "scores = np.array([70, 80, 80, 82, 88, 90])\n",
    "mean_score = np.mean(scores)\n",
    "range_score = np.ptp(scores)  # Peak-to-peak is another term for range\n",
    "variance_score = np.var(scores, ddof=1)  # Sample variance\n",
    "std_deviation_score = np.sqrt(variance_score)\n",
    "\n",
    "print(\"Mean:\", mean_score)\n",
    "print(\"Range:\", range_score)\n",
    "print(\"Variance:\", variance_score)\n",
    "print(\"Standard Deviation:\", std_deviation_score)"
   ]
  },
  {
   "cell_type": "markdown",
   "id": "19b9352e",
   "metadata": {},
   "source": [
    "## Q6. What is a Venn diagram?"
   ]
  },
  {
   "cell_type": "markdown",
   "id": "0b186b79",
   "metadata": {},
   "source": [
    "A typical Venn diagram consists of overlapping circles, each representing a set. The areas where the circles overlap indicate the elements that belong to both sets, while the non-overlapping portions of the circles represent elements unique to each set. The size of the circles and their positions relative to each other can vary based on the specific information being conveyed.\n",
    "\n",
    "Key features of a Venn diagram:\n",
    "\n",
    "1. Intersection: The overlapping regions of the circles represent the elements that are common to the sets involved. These elements satisfy the criteria of both sets.\n",
    "\n",
    "2. Union: The entire area covered by all the circles combined represents the union of all the sets, including all elements from all sets.\n",
    "\n",
    "3. Disjoint sets: If two circles do not overlap at all, it means the sets have no elements in common, and they are said to be disjoint or mutually exclusive.\n",
    "\n",
    "Venn diagrams are a helpful tool for visually illustrating relationships and comparisons between different sets or categories. They are often used in various fields, including mathematics (set theory), statistics (probability theory), logic (syllogisms), biology (genetics), and data analysis, to name a few. Venn diagrams can make complex relationships more understandable and are a valuable tool for problem-solving and data visualization."
   ]
  },
  {
   "cell_type": "markdown",
   "id": "fd1397d7",
   "metadata": {},
   "source": [
    "## Q7. For the two given sets A = (2,3,4,5,6,7) & B = (0,2,6,8,10). Find:\n",
    "## i) A B\n",
    "## (ii) A ⋃ B"
   ]
  },
  {
   "cell_type": "markdown",
   "id": "c15093fe",
   "metadata": {},
   "source": [
    "To find the intersection (A ∩ B) and the union (A ∪ B) of the two sets A and B, you can follow these steps:\n",
    "\n",
    "(i) Intersection (A ∩ B):\n",
    "   The intersection of two sets contains the elements that are common to both sets. In this case, you need to find the elements that are present in both sets A and B.\n",
    "\n",
    "   A = {2, 3, 4, 5, 6, 7}\n",
    "   B = {0, 2, 6, 8, 10}\n",
    "\n",
    "   The elements that are common to both sets A and B are 2 and 6.\n",
    "\n",
    "   A ∩ B = {2, 6}\n",
    "\n",
    "(ii) Union (A ∪ B):\n",
    "   The union of two sets contains all the unique elements from both sets, without duplicates.\n",
    "\n",
    "   A = {2, 3, 4, 5, 6, 7}\n",
    "   B = {0, 2, 6, 8, 10}\n",
    "\n",
    "   Combine all the elements from both sets:\n",
    "\n",
    "   A ∪ B = {0, 2, 3, 4, 5, 6, 7, 8, 10}\n",
    "\n",
    "So, the answers are:\n",
    "(i) A ∩ B = {2, 6}\n",
    "(ii) A ∪ B = {0, 2, 3, 4, 5, 6, 7, 8, 10}"
   ]
  },
  {
   "cell_type": "markdown",
   "id": "b3dd555f",
   "metadata": {},
   "source": [
    "## Q8. What do you understand about skewness in data?"
   ]
  },
  {
   "cell_type": "markdown",
   "id": "a433bc18",
   "metadata": {},
   "source": [
    "Skewness is a measure of the asymmetry of the probability distribution of a real-valued random variable about its mean. In simpler terms, skewness tells us about the direction and relative magnitude of a dataset’s deviation from the normal distribution. Here are key points about skewness:\n",
    "\n",
    "### Types of Skewness:\n",
    "\n",
    "- **Positive Skew (Right-Skewed)**: When the tail on the right side of the distribution is longer or fatter than the left side. In a positively skewed distribution, the mean and median will be greater than the mode (Mean > Median > Mode).\n",
    "- **Negative Skew (Left-Skewed)**: When the tail on the left side of the distribution is longer or fatter than the right side. In a negatively skewed distribution, the mean and median will be less than the mode (Mean < Median < Mode).\n",
    "- **Zero Skew (Symmetric)**: When the values are distributed symmetrically around the mean. This implies that the distribution looks the same to the left and right of the center point.\n",
    "\n",
    "### Implications of Skewness:\n",
    "\n",
    "- **Influence on Data Analysis**: Skewness can affect various statistical analyses since many statistical tests assume normal distribution (zero skewness). For instance, significant skewness may affect the validity of certain statistical tests.\n",
    "- **Decision Making**: Understanding skewness is important for making decisions based on data. For example, if data about household income is positively skewed (which is typically the case), using the mean as an average may be misleading since it's higher than most people's incomes due to the influence of very high incomes.\n",
    "- **Data Transformation**: Sometimes data is transformed (e.g., using log transformation) to reduce skewness and make the data more closely approximate a normal distribution, which is often a requirement for parametric statistical tests.\n",
    "\n",
    "### Measuring Skewness:\n",
    "\n",
    "Skewness is typically measured with Pearson’s first coefficient of skewness (mode-based) or the second coefficient of skewness (mean-based, which is more common).\n",
    "\n",
    "The formula for the second coefficient of skewness is:\n",
    "\n",
    "Skewness = 3(Mean - Median)/Standard Deviation \n",
    "\n",
    "or a more complex formula involving the third moment about the mean:\n",
    "\n",
    "Skewness = E[(X - \\mu)^3]}/sigma^3\n",
    "\n",
    "where \\( X \\) is the random variable, \\( \\mu \\) is the mean of \\( X \\), and \\( \\sigma \\) is the standard deviation of \\( X \\).\n",
    "\n",
    "### Example:\n",
    "\n",
    "Consider an income dataset for a region: [25k, 30k, 35k, 40k, 50k, 55k, 60k, 200k]. The large value at the end (200k) will pull the mean up more than the median or mode, resulting in a positively skewed distribution. Most people's income will be below the average due to this skew.\n",
    "\n",
    "Skewness is a fundamental concept in descriptive statistics and is critical for data analysis, particularly in the fields of finance, research, and any domain where data distribution plays a crucial role in decision-making."
   ]
  },
  {
   "cell_type": "markdown",
   "id": "79036cf5",
   "metadata": {},
   "source": [
    "Certainly! Let's simplify the concept of skewness.\n",
    "\n",
    "Imagine you have a line of people arranged by height, so that the shortest person is at the start of the line and the tallest at the end. If most people are of average height, with just a few tall people, the line might stretch out longer on the tall end. If this were a graph, it would lean towards the shorter people with a long tail stretching out towards the taller people. This is what we call a \"skewed\" distribution.\n",
    "\n",
    "Skewness tells us if there are more values on the high end or the low end of our dataset:\n",
    "\n",
    "- **Positive Skewness**: This is like having the line of people with a few really tall individuals at the end. In a graph, most of the data would be piled up on the left side, with the \"tail\" stretching out to the right. In everyday terms, if you're looking at incomes, a positive skew means there are a few people with very high incomes raising the average.\n",
    "  \n",
    "- **Negative Skewness**: This would be like having a few very short individuals at the start of our line. On a graph, the tail would stretch out to the left. If this were a test where most people scored high, with a few low scores pulling the average down, that's a negative skew.\n",
    "\n",
    "- **No Skewness**: If almost everyone is around the average height, with fewer short and tall people, the line of people would be quite even. On a graph, it would look symmetrical, with no tail longer on one side than the other.\n",
    "\n",
    "Skewness is important because it can tell us if the average (mean) of our data might be thrown off by exceptionally high or low values. If there's a lot of skewness, we might want to use the median (the middle value when all are sorted) instead of the mean, because it gives us a better idea of what's typical for our dataset."
   ]
  },
  {
   "cell_type": "markdown",
   "id": "f272ecea",
   "metadata": {},
   "source": []
  },
  {
   "cell_type": "code",
   "execution_count": null,
   "id": "bb772aee",
   "metadata": {},
   "outputs": [],
   "source": []
  }
 ],
 "metadata": {
  "kernelspec": {
   "display_name": "Python 3 (ipykernel)",
   "language": "python",
   "name": "python3"
  },
  "language_info": {
   "codemirror_mode": {
    "name": "ipython",
    "version": 3
   },
   "file_extension": ".py",
   "mimetype": "text/x-python",
   "name": "python",
   "nbconvert_exporter": "python",
   "pygments_lexer": "ipython3",
   "version": "3.11.5"
  }
 },
 "nbformat": 4,
 "nbformat_minor": 5
}
